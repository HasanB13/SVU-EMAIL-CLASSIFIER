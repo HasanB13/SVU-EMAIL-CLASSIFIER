{
 "cells": [
  {
   "cell_type": "code",
   "execution_count": 4,
   "metadata": {},
   "outputs": [
    {
     "name": "stdout",
     "output_type": "stream",
     "text": [
      "['spam' 'ham']\n"
     ]
    }
   ],
   "source": [
    "import pickle\n",
    "from sklearn.externals import joblib\n",
    "filename = 'classifier.pkl'\n",
    "mdl = joblib.load(filename)\n",
    "fitt = joblib.load('datFit.pkl')\n",
    "msg = ['''\n",
    "\n",
    "An intersting new forum topic was started by Jaap de Jonge in our Levers of Control center:\n",
    "\n",
    "Consequences of AI for Management Control\n",
    "What is the meaning of Artificial Intelligence for management control... Does it represent a new lever for control? Or will AI in the long run become a threat for managers, replacing them? (...) Learn more / react\n",
    "''','Hi hasan how are you?']\n",
    "msg = fitt.transform(msg)\n",
    "y = mdl.predict(msg)\n",
    "print(y)"
   ]
  },
  {
   "cell_type": "code",
   "execution_count": null,
   "metadata": {},
   "outputs": [],
   "source": []
  }
 ],
 "metadata": {
  "kernelspec": {
   "display_name": "Python 3",
   "language": "python",
   "name": "python3"
  },
  "language_info": {
   "codemirror_mode": {
    "name": "ipython",
    "version": 3
   },
   "file_extension": ".py",
   "mimetype": "text/x-python",
   "name": "python",
   "nbconvert_exporter": "python",
   "pygments_lexer": "ipython3",
   "version": "3.6.8"
  }
 },
 "nbformat": 4,
 "nbformat_minor": 2
}
